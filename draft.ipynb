{
 "cells": [
  {
   "cell_type": "code",
   "execution_count": 13,
   "metadata": {
    "collapsed": true
   },
   "outputs": [],
   "source": [
    "import numpy as np\n",
    "import pcl\n",
    "import cv2\n",
    "import os\n",
    "import math\n",
    "from collections import  Counter\n",
    "\n",
    "def load_pcd(loadpath='/home/wuhang/sofa.pcd'):\n",
    "    cloud = pcl.load(loadpath)\n",
    "    print('Loaded ' + loadpath)\n",
    "    cloud_np = np.zeros([cloud.size,3])\n",
    "    for i in range (0,cloud.size):\n",
    "        cloud_np[i][0] = cloud[i][0]\n",
    "        cloud_np[i][1] = cloud[i][1]\n",
    "        cloud_np[i][2] = cloud[i][2]\n",
    "\n",
    "    cloud_x = cloud_np[:,0]\n",
    "    cloud_y = cloud_np[:,1]\n",
    "    cloud_z = cloud_np[:,2]\n",
    "\n",
    "    x_min = np.min(cloud_x)-((2.2-(np.max(cloud_x)-np.min(cloud_x)))/2)\n",
    "    y_min = np.min(cloud_y)-((2.2-(np.max(cloud_y)-np.min(cloud_y)))/2)\n",
    "    z_min = np.min(cloud_z)\n",
    "\n",
    "    cloud_mod = cloud_np-np.hstack(( x_min*(np.ones([cloud.size,1])),\n",
    "                                    y_min*(np.ones([cloud.size,1])),\n",
    "                                    z_min*(np.ones([cloud.size,1])) ))\n",
    "    return cloud_mod"
   ]
  },
  {
   "cell_type": "code",
   "execution_count": 43,
   "metadata": {},
   "outputs": [
    {
     "name": "stdout",
     "output_type": "stream",
     "text": [
      "Loaded /home/wuhang/3d_vision/trash/res.pcd\n",
      "(2225, 3)\n",
      "(2225, 3)\n"
     ]
    }
   ],
   "source": [
    "cl = load_pcd('/home/wuhang/3d_vision/trash/res.pcd')\n",
    "print np.shape(cl)\n",
    "cl = np.round(cl, decimals=3)\n",
    "cl2= np.unique(cl,axis=0)\n",
    "print np.shape(cl2)"
   ]
  },
  {
   "cell_type": "code",
   "execution_count": 39,
   "metadata": {},
   "outputs": [
    {
     "name": "stdout",
     "output_type": "stream",
     "text": [
      "[[0.1 0.7 0.6]\n",
      " [0.1 0.8 0.6]\n",
      " [0.2 0.7 0.6]\n",
      " ...\n",
      " [1.8 1.5 0.7]\n",
      " [1.9 1.5 0.6]\n",
      " [1.8 1.5 0.7]]\n"
     ]
    }
   ],
   "source": [
    "print cl"
   ]
  },
  {
   "cell_type": "code",
   "execution_count": null,
   "metadata": {
    "collapsed": true
   },
   "outputs": [],
   "source": []
  }
 ],
 "metadata": {
  "kernelspec": {
   "display_name": "Python 2",
   "language": "python",
   "name": "python2"
  },
  "language_info": {
   "codemirror_mode": {
    "name": "ipython",
    "version": 2
   },
   "file_extension": ".py",
   "mimetype": "text/x-python",
   "name": "python",
   "nbconvert_exporter": "python",
   "pygments_lexer": "ipython2",
   "version": "2.7.16"
  }
 },
 "nbformat": 4,
 "nbformat_minor": 2
}
